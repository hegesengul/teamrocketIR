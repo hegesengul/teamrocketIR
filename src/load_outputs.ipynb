{
 "cells": [
  {
   "metadata": {
    "ExecuteTime": {
     "end_time": "2025-06-06T15:01:51.287877Z",
     "start_time": "2025-06-06T15:01:50.526394Z"
    }
   },
   "cell_type": "code",
   "source": [
    "import torch\n",
    "\n",
    "device = \"cpu\"\n",
    "\n",
    "if torch.cuda.is_available():\n",
    "    device = \"cuda\"\n",
    "elif torch.backends.mps.is_available():\n",
    "    device = \"mps\"\n",
    "\n",
    "torch.set_default_device(device)"
   ],
   "id": "a43ecb3d42f8ab6a",
   "outputs": [],
   "execution_count": 2
  },
  {
   "metadata": {
    "ExecuteTime": {
     "end_time": "2025-06-06T15:01:57.225151Z",
     "start_time": "2025-06-06T15:01:54.373819Z"
    }
   },
   "cell_type": "code",
   "source": [
    "import os\n",
    "\n",
    "outputs = [filename for filename in os.listdir('.') if filename.startswith('output_')]\n",
    "\n",
    "outputs_tensor = torch.zeros(0).to(dtype=torch.float16)\n",
    "\n",
    "for filename in outputs:\n",
    "    tmp = torch.load(filename).to(device)\n",
    "\n",
    "    outputs_tensor = torch.cat((outputs_tensor, tmp))"
   ],
   "id": "initial_id",
   "outputs": [
    {
     "name": "stderr",
     "output_type": "stream",
     "text": [
      "/var/folders/ql/7z6sdkd17qs6b4z_8jlhprn40000gn/T/ipykernel_11178/1683942246.py:8: FutureWarning: You are using `torch.load` with `weights_only=False` (the current default value), which uses the default pickle module implicitly. It is possible to construct malicious pickle data which will execute arbitrary code during unpickling (See https://github.com/pytorch/pytorch/blob/main/SECURITY.md#untrusted-models for more details). In a future release, the default value for `weights_only` will be flipped to `True`. This limits the functions that could be executed during unpickling. Arbitrary objects will no longer be allowed to be loaded via this mode unless they are explicitly allowlisted by the user via `torch.serialization.add_safe_globals`. We recommend you start setting `weights_only=True` for any use case where you don't have full control of the loaded file. Please open an issue on GitHub for any issues related to this experimental feature.\n",
      "  tmp = torch.load(filename).to(device)\n"
     ]
    }
   ],
   "execution_count": 3
  },
  {
   "metadata": {
    "ExecuteTime": {
     "end_time": "2025-06-06T15:25:32.831910Z",
     "start_time": "2025-06-06T15:25:31.506023Z"
    }
   },
   "cell_type": "code",
   "source": [
    "def find_k_closest(input_tensor, k):\n",
    "    with torch.no_grad():\n",
    "        differences = outputs_tensor - input_tensor\n",
    "\n",
    "        distances = torch.linalg.norm(differences, dim=(-2, -1))\n",
    "\n",
    "        _, closest_indices = torch.topk(distances, k=k, largest=False, sorted=True)\n",
    "\n",
    "        return closest_indices\n"
   ],
   "id": "86cf9d68d4213d4e",
   "outputs": [],
   "execution_count": 16
  }
 ],
 "metadata": {
  "kernelspec": {
   "display_name": "Python 3",
   "language": "python",
   "name": "python3"
  },
  "language_info": {
   "codemirror_mode": {
    "name": "ipython",
    "version": 2
   },
   "file_extension": ".py",
   "mimetype": "text/x-python",
   "name": "python",
   "nbconvert_exporter": "python",
   "pygments_lexer": "ipython2",
   "version": "2.7.6"
  }
 },
 "nbformat": 4,
 "nbformat_minor": 5
}
